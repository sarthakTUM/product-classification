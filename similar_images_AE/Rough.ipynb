{
 "cells": [
  {
   "cell_type": "code",
   "execution_count": 1,
   "metadata": {
    "collapsed": true
   },
   "outputs": [],
   "source": [
    "%matplotlib inline\n",
    "import matplotlib.pyplot as plt\n",
    "import sys\n",
    "import os\n"
   ]
  },
  {
   "cell_type": "code",
   "execution_count": 2,
   "metadata": {
    "collapsed": true
   },
   "outputs": [],
   "source": [
    "project_path = \"PycharmProjects/Amazon-Mining\"\n",
    "# make sure to use position 1\n",
    "sys.path.insert(1, project_path)\n",
    "os.chdir(\"/Users\\RSK\\PycharmProjects\\Amazon-Mining\")\n",
    "from src.data.json_loader import JSONLoader\n",
    "os.chdir(\"/Users\\RSK\")"
   ]
  },
  {
   "cell_type": "code",
   "execution_count": 3,
   "metadata": {
    "collapsed": true
   },
   "outputs": [],
   "source": [
    "global links"
   ]
  },
  {
   "cell_type": "code",
   "execution_count": 4,
   "metadata": {
    "collapsed": true
   },
   "outputs": [],
   "source": []
  },
  {
   "cell_type": "code",
   "execution_count": 12,
   "metadata": {},
   "outputs": [],
   "source": [
    "links = [\"C:\\\\Users\\\\RSK\\\\Pictures\\\\a.jpg\",\"C:\\\\Users\\\\RSK\\\\Pictures\\\\b.jpg\"]"
   ]
  },
  {
   "cell_type": "code",
   "execution_count": 40,
   "metadata": {
    "collapsed": true
   },
   "outputs": [],
   "source": [
    "def main(path):\n",
    "    return path"
   ]
  },
  {
   "cell_type": "code",
   "execution_count": null,
   "metadata": {
    "collapsed": true
   },
   "outputs": [],
   "source": [
    "import io\n",
    "import base64\n",
    "import tkinter as tk\n",
    "from urllib.request import urlopen\n",
    "from PIL import Image, ImageTk\n",
    "import urllib\n",
    "from io import BytesIO"
   ]
  },
  {
   "cell_type": "code",
   "execution_count": 42,
   "metadata": {},
   "outputs": [],
   "source": [
    "root = tk.Tk()\n",
    "global panel\n",
    "global check\n",
    "global orgpanel\n",
    "check = 1\n",
    "panel = []\n",
    "\n",
    "root.geometry('450x450+500+300')\n",
    "root.title('Product Recommender System')\n",
    "root.columnconfigure(0, pad=3)\n",
    "root.columnconfigure(1, pad=3)\n",
    "root.columnconfigure(2, pad=3)\n",
    "root.columnconfigure(3, pad=3)\n",
    "        \n",
    "root.rowconfigure(0, pad=3)\n",
    "root.rowconfigure(1, pad=3)\n",
    "root.rowconfigure(2, pad=3)\n",
    "root.rowconfigure(3, pad=3)\n",
    "root.rowconfigure(4, pad=3)\n",
    "#scrollbar = tk.Scrollbar(root)\n",
    "#scrollbar.pack(side='right', fill='y')\n",
    "\n",
    "\n",
    "asinTxt = tk.StringVar()\n",
    "mlabel = tk.Label(root,text='Enter Asin').grid(column=10, row=2)\n",
    "asinEntry = tk.Entry(root, textvariable = asinTxt).grid(column=10, row=4)\n",
    "\n",
    "\n",
    "#panel = Panel(root, yscrollcommand=scrollbar.set)\n",
    "#panel.pack(side=\"top\", padx=10, pady=10)\n",
    "def recommendSearch():\n",
    "    global check\n",
    "    global panel\n",
    "    global orgpanel\n",
    "\n",
    "    #del panel[:]\n",
    "    results = main(asinTxt.get())\n",
    "\n",
    "    orgimg = ImageTk.PhotoImage(Image.open(results))\n",
    "    if check == 1:\n",
    "        orgpanel = tk.Label(root, image=orgimg,height=200,width=200)\n",
    "        orgpanel.grid(row=8, column=0,columnspan=50,rowspan=20,padx = 5,pady=5)\n",
    "        orgpanel.image = orgimg\n",
    "    else:\n",
    "        orgpanel.configure(image = orgimg)\n",
    "        orgpanel.image = orgimg\n",
    "        \n",
    "    for x in range(0, 1):\n",
    "       # URL = \"http://ia.media-imdb.com/images/M/MV5BMTc2MTU4ODI5MF5BMl5BanBnXkFtZTcwODI2MzAyOA@@._V1_SY317_CR7,0,214,317_AL_.jpg\" \n",
    "        imgpath = results\n",
    "        img = ImageTk.PhotoImage(Image.open(imgpath))\n",
    "        if check > 1:\n",
    "            panel[x].configure(image = img)\n",
    "            panel[x].image = img\n",
    "        else:\n",
    "            panel.append(tk.Label(root, image=img,height=200,width=200))\n",
    "            panel[x].grid(row=20+(200*int(x/3)), column=200*(x%3+1),padx=5)\n",
    "            panel[x].image = img\n",
    "            \n",
    "\n",
    "    check = check + 1\n",
    "        \n",
    "searchBtn = tk.Button(root, text=\"Search\", command=recommendSearch).grid(column=10, row=6)\n",
    "\n",
    "\n",
    "root.mainloop()\n"
   ]
  },
  {
   "cell_type": "code",
   "execution_count": null,
   "metadata": {
    "collapsed": true
   },
   "outputs": [],
   "source": []
  },
  {
   "cell_type": "code",
   "execution_count": null,
   "metadata": {
    "collapsed": true
   },
   "outputs": [],
   "source": [
    "\n"
   ]
  },
  {
   "cell_type": "code",
   "execution_count": null,
   "metadata": {
    "collapsed": true
   },
   "outputs": [],
   "source": [
    "C:\\\\Users\\\\RSK\\\\Pictures\\\\srabski-hleb.jpg"
   ]
  },
  {
   "cell_type": "code",
   "execution_count": null,
   "metadata": {
    "collapsed": true
   },
   "outputs": [],
   "source": []
  },
  {
   "cell_type": "code",
   "execution_count": null,
   "metadata": {
    "collapsed": true
   },
   "outputs": [],
   "source": []
  }
 ],
 "metadata": {
  "kernelspec": {
   "display_name": "Python 3",
   "language": "python",
   "name": "python3"
  },
  "language_info": {
   "codemirror_mode": {
    "name": "ipython",
    "version": 3
   },
   "file_extension": ".py",
   "mimetype": "text/x-python",
   "name": "python",
   "nbconvert_exporter": "python",
   "pygments_lexer": "ipython3",
   "version": "3.6.3"
  }
 },
 "nbformat": 4,
 "nbformat_minor": 2
}

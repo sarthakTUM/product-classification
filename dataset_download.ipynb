{
 "cells": [
  {
   "cell_type": "markdown",
   "metadata": {},
   "source": [
    "## imports"
   ]
  },
  {
   "cell_type": "code",
   "execution_count": 1,
   "metadata": {
    "collapsed": true
   },
   "outputs": [],
   "source": [
    "%matplotlib inline\n",
    "import matplotlib.pyplot as plt\n",
    "import numpy as np\n",
    "from collections import defaultdict\n",
    "import itertools\n",
    "import pandas as pd\n",
    "import _pickle as cPickle\n",
    "from pandas import DataFrame\n",
    "from pandas import Series\n",
    "import os"
   ]
  },
  {
   "cell_type": "markdown",
   "metadata": {},
   "source": [
    "## function definitions"
   ]
  },
  {
   "cell_type": "code",
   "execution_count": 2,
   "metadata": {
    "collapsed": true
   },
   "outputs": [],
   "source": [
    "class Loader(object):\n",
    "    \"\"\"\n",
    "    interface for data loader wrappers\n",
    "    \"\"\"\n",
    "    def load_data(self, file_name):\n",
    "        \"\"\"\n",
    "        loads the data into memory\n",
    "        :param file_name: name of the file to load\n",
    "        :return: pandas object\n",
    "        \"\"\"\n",
    "        raise NotImplementedError"
   ]
  },
  {
   "cell_type": "code",
   "execution_count": 3,
   "metadata": {
    "collapsed": true
   },
   "outputs": [],
   "source": [
    "import gzip\n",
    "class JSONLoader(Loader):\n",
    "    def __init__(self, read_mode='rb'):\n",
    "        self.read_mode = read_mode\n",
    "\n",
    "    def load_data(self, file_name):\n",
    "        \"\"\"\n",
    "        :param file_name: complete path to open\n",
    "        :return: pandas dataframe\n",
    "        \"\"\"\n",
    "        try:\n",
    "            i = 0\n",
    "            df = {}\n",
    "            for d in self._parse(file_name):\n",
    "                df[i] = d\n",
    "                i += 1\n",
    "            return pd.DataFrame.from_dict(df, orient='index')\n",
    "        except Exception as e:\n",
    "            raise e\n",
    "\n",
    "    def _parse(self, file_name):\n",
    "        g = gzip.open(file_name, self.read_mode)\n",
    "        for l in g:\n",
    "            yield eval(l)"
   ]
  },
  {
   "cell_type": "code",
   "execution_count": 4,
   "metadata": {
    "collapsed": true
   },
   "outputs": [],
   "source": [
    "def flatten(l):\n",
    "    return [item for sublist in l for item in sublist]"
   ]
  },
  {
   "cell_type": "code",
   "execution_count": 5,
   "metadata": {
    "collapsed": true
   },
   "outputs": [],
   "source": [
    "def get_cat(l):\n",
    "    return l[-1]"
   ]
  },
  {
   "cell_type": "markdown",
   "metadata": {},
   "source": [
    "## data loading"
   ]
  },
  {
   "cell_type": "code",
   "execution_count": 6,
   "metadata": {
    "collapsed": true
   },
   "outputs": [],
   "source": [
    "# file_path corresponds to the file of the .gz file which contains the JSON file. \n",
    "#product_path = '/media/sarthak/HDD/TUM/courses/sem_3/practical DM/datasets/meta_Electronics.json.gz'\n",
    "product_path = 'D:\\\\TUM\\\\courses\\\\sem_3\\\\practical DM\\\\datasets\\\\meta_Electronics.json.gz'\n",
    "loader = JSONLoader()\n",
    "product = loader.load_data(product_path)"
   ]
  },
  {
   "cell_type": "code",
   "execution_count": 7,
   "metadata": {
    "collapsed": false
   },
   "outputs": [
    {
     "data": {
      "text/html": [
       "<div>\n",
       "<table border=\"1\" class=\"dataframe\">\n",
       "  <thead>\n",
       "    <tr style=\"text-align: right;\">\n",
       "      <th></th>\n",
       "      <th>asin</th>\n",
       "      <th>imUrl</th>\n",
       "      <th>description</th>\n",
       "      <th>categories</th>\n",
       "      <th>title</th>\n",
       "      <th>price</th>\n",
       "      <th>salesRank</th>\n",
       "      <th>related</th>\n",
       "      <th>brand</th>\n",
       "    </tr>\n",
       "  </thead>\n",
       "  <tbody>\n",
       "    <tr>\n",
       "      <th>0</th>\n",
       "      <td>0132793040</td>\n",
       "      <td>http://ecx.images-amazon.com/images/I/31JIPhp%...</td>\n",
       "      <td>The Kelby Training DVD Mastering Blend Modes i...</td>\n",
       "      <td>[[Electronics, Computers &amp; Accessories, Cables...</td>\n",
       "      <td>Kelby Training DVD: Mastering Blend Modes in A...</td>\n",
       "      <td>NaN</td>\n",
       "      <td>NaN</td>\n",
       "      <td>NaN</td>\n",
       "      <td>NaN</td>\n",
       "    </tr>\n",
       "    <tr>\n",
       "      <th>1</th>\n",
       "      <td>0321732944</td>\n",
       "      <td>http://ecx.images-amazon.com/images/I/31uogm6Y...</td>\n",
       "      <td>NaN</td>\n",
       "      <td>[[Electronics, Computers &amp; Accessories, Cables...</td>\n",
       "      <td>Kelby Training DVD: Adobe Photoshop CS5 Crash ...</td>\n",
       "      <td>NaN</td>\n",
       "      <td>NaN</td>\n",
       "      <td>NaN</td>\n",
       "      <td>NaN</td>\n",
       "    </tr>\n",
       "    <tr>\n",
       "      <th>2</th>\n",
       "      <td>0439886341</td>\n",
       "      <td>http://ecx.images-amazon.com/images/I/51k0qa8f...</td>\n",
       "      <td>Digital Organizer and Messenger</td>\n",
       "      <td>[[Electronics, Computers &amp; Accessories, PDAs, ...</td>\n",
       "      <td>Digital Organizer and Messenger</td>\n",
       "      <td>8.15</td>\n",
       "      <td>{'Electronics': 144944}</td>\n",
       "      <td>{'also_viewed': ['0545016266', 'B009ECM8QY', '...</td>\n",
       "      <td>NaN</td>\n",
       "    </tr>\n",
       "    <tr>\n",
       "      <th>3</th>\n",
       "      <td>0511189877</td>\n",
       "      <td>http://ecx.images-amazon.com/images/I/41HaAhbv...</td>\n",
       "      <td>The CLIKR-5 UR5U-8780L remote control is desig...</td>\n",
       "      <td>[[Electronics, Accessories &amp; Supplies, Audio &amp;...</td>\n",
       "      <td>CLIKR-5 Time Warner Cable Remote Control UR5U-...</td>\n",
       "      <td>23.36</td>\n",
       "      <td>NaN</td>\n",
       "      <td>{'also_viewed': ['B001KC08A4', 'B00KUL8O0W', '...</td>\n",
       "      <td>NaN</td>\n",
       "    </tr>\n",
       "    <tr>\n",
       "      <th>4</th>\n",
       "      <td>0528881469</td>\n",
       "      <td>http://ecx.images-amazon.com/images/I/51FnRkJq...</td>\n",
       "      <td>Like its award-winning predecessor, the Intell...</td>\n",
       "      <td>[[Electronics, GPS &amp; Navigation, Vehicle GPS, ...</td>\n",
       "      <td>Rand McNally 528881469 7-inch Intelliroute TND...</td>\n",
       "      <td>299.99</td>\n",
       "      <td>NaN</td>\n",
       "      <td>{'also_viewed': ['B006ZOI9OY', 'B00C7FKT2A', '...</td>\n",
       "      <td>NaN</td>\n",
       "    </tr>\n",
       "  </tbody>\n",
       "</table>\n",
       "</div>"
      ],
      "text/plain": [
       "         asin                                              imUrl  \\\n",
       "0  0132793040  http://ecx.images-amazon.com/images/I/31JIPhp%...   \n",
       "1  0321732944  http://ecx.images-amazon.com/images/I/31uogm6Y...   \n",
       "2  0439886341  http://ecx.images-amazon.com/images/I/51k0qa8f...   \n",
       "3  0511189877  http://ecx.images-amazon.com/images/I/41HaAhbv...   \n",
       "4  0528881469  http://ecx.images-amazon.com/images/I/51FnRkJq...   \n",
       "\n",
       "                                         description  \\\n",
       "0  The Kelby Training DVD Mastering Blend Modes i...   \n",
       "1                                                NaN   \n",
       "2                    Digital Organizer and Messenger   \n",
       "3  The CLIKR-5 UR5U-8780L remote control is desig...   \n",
       "4  Like its award-winning predecessor, the Intell...   \n",
       "\n",
       "                                          categories  \\\n",
       "0  [[Electronics, Computers & Accessories, Cables...   \n",
       "1  [[Electronics, Computers & Accessories, Cables...   \n",
       "2  [[Electronics, Computers & Accessories, PDAs, ...   \n",
       "3  [[Electronics, Accessories & Supplies, Audio &...   \n",
       "4  [[Electronics, GPS & Navigation, Vehicle GPS, ...   \n",
       "\n",
       "                                               title   price  \\\n",
       "0  Kelby Training DVD: Mastering Blend Modes in A...     NaN   \n",
       "1  Kelby Training DVD: Adobe Photoshop CS5 Crash ...     NaN   \n",
       "2                    Digital Organizer and Messenger    8.15   \n",
       "3  CLIKR-5 Time Warner Cable Remote Control UR5U-...   23.36   \n",
       "4  Rand McNally 528881469 7-inch Intelliroute TND...  299.99   \n",
       "\n",
       "                 salesRank                                            related  \\\n",
       "0                      NaN                                                NaN   \n",
       "1                      NaN                                                NaN   \n",
       "2  {'Electronics': 144944}  {'also_viewed': ['0545016266', 'B009ECM8QY', '...   \n",
       "3                      NaN  {'also_viewed': ['B001KC08A4', 'B00KUL8O0W', '...   \n",
       "4                      NaN  {'also_viewed': ['B006ZOI9OY', 'B00C7FKT2A', '...   \n",
       "\n",
       "  brand  \n",
       "0   NaN  \n",
       "1   NaN  \n",
       "2   NaN  \n",
       "3   NaN  \n",
       "4   NaN  "
      ]
     },
     "execution_count": 7,
     "metadata": {},
     "output_type": "execute_result"
    }
   ],
   "source": [
    "product.head()"
   ]
  },
  {
   "cell_type": "code",
   "execution_count": 8,
   "metadata": {
    "collapsed": true
   },
   "outputs": [],
   "source": [
    "product.categories = product.categories.apply(flatten)\n",
    "product.categories = product.categories.apply(get_cat)\n",
    "\n",
    "# code that did the magic of running in sub-seconds complexity.\n",
    "#sin_cat_dict = Series(product.categories.values,index=product.asin).to_dict()"
   ]
  },
  {
   "cell_type": "code",
   "execution_count": 9,
   "metadata": {
    "collapsed": false,
    "scrolled": true
   },
   "outputs": [
    {
     "data": {
      "text/plain": [
       "Cases                                            39450\n",
       "Batteries                                        21124\n",
       "Chargers & Adapters                              16834\n",
       "Headphones                                       11621\n",
       "Laptops                                           9471\n",
       "Camera Cases                                      9046\n",
       "Sleeves & Slipcases                               6951\n",
       "Memory                                            6847\n",
       "Camera Batteries                                  6648\n",
       "USB Cables                                        6387\n",
       "Screen Protectors                                 6286\n",
       "Skins & Decals                                    6170\n",
       "AC Adapters                                       5884\n",
       "USB Flash Drives                                  5404\n",
       "Speaker Systems                                   5298\n",
       "Keyboards                                         4866\n",
       "Computers & Accessories                           4859\n",
       "HDMI Cables                                       4664\n",
       "Point & Shoot Digital Cameras                     4475\n",
       "Lamps                                             4292\n",
       "Accessory Kits                                    4176\n",
       "Covers                                            4044\n",
       "MP3 Players                                       4038\n",
       "Mice                                              4004\n",
       "Desktops                                          3931\n",
       "Connectors & Adapters                             3804\n",
       "Monitors                                          3797\n",
       "Replacement Screens                               3749\n",
       "Camera                                            3693\n",
       "Graphics Cards                                    3547\n",
       "                                                 ...  \n",
       "Kindle Fire HD 8.9\" Screen Protectors                1\n",
       "Belts                                                1\n",
       "CAD                                                  1\n",
       "Surveillance Accessories                             1\n",
       "Card Files, Holders & Racks                          1\n",
       "Kindle Fire (7\") Screen Protectors                   1\n",
       "Kindle (2nd Generation) Reading Lights               1\n",
       "Crafts, Hobbies & Home                               1\n",
       "Eye Protection                                       1\n",
       "Studio Recording Equipment                           1\n",
       "Gym Totes                                            1\n",
       "Marine Subwoofers                                    1\n",
       "Poster Boards                                        1\n",
       "Big Button & Amplified Telephones                    1\n",
       "Handlebars, Headsets & Stems                         1\n",
       "MP3 Software                                         1\n",
       "Cordless Telephones                                  1\n",
       "HD DVD Players                                       1\n",
       "Power Amplifiers                                     1\n",
       "Kindle Fire HD 7\" (Previous Generation) Skins        1\n",
       "Genealogy                                            1\n",
       "Clothing                                             1\n",
       "Underwater Lighting                                  1\n",
       "Music Creation & Sequencing                          1\n",
       "Countertop Burners                                   1\n",
       "Shoelaces                                            1\n",
       "Invitations                                          1\n",
       "Professional Development                             1\n",
       "Drawstring Bags                                      1\n",
       "Business Planning                                    1\n",
       "Name: categories, dtype: int64"
      ]
     },
     "execution_count": 9,
     "metadata": {},
     "output_type": "execute_result"
    }
   ],
   "source": [
    "product.categories.value_counts()"
   ]
  },
  {
   "cell_type": "markdown",
   "metadata": {},
   "source": [
    "## creating dataset"
   ]
  },
  {
   "cell_type": "code",
   "execution_count": 10,
   "metadata": {
    "collapsed": true
   },
   "outputs": [],
   "source": [
    "# change the threshold to experiment\n",
    "low_threshold = 4000\n",
    "up_threshold = 15000\n",
    "percent = []\n",
    "cats = []\n",
    "counter = 0\n",
    "total = 0\n",
    "counts = product.categories.value_counts()\n",
    "for key, val in counts.iteritems():\n",
    "    if val >= low_threshold and val <= up_threshold:\n",
    "        counter+=1\n",
    "        total += val\n",
    "        percent.append( (val/product.shape[0]) * 100)\n",
    "        cats.append(key)"
   ]
  },
  {
   "cell_type": "code",
   "execution_count": 11,
   "metadata": {
    "collapsed": false,
    "scrolled": true
   },
   "outputs": [
    {
     "data": {
      "text/plain": [
       "Headphones                       11621\n",
       "Laptops                           9471\n",
       "Camera Cases                      9046\n",
       "Sleeves & Slipcases               6951\n",
       "Memory                            6847\n",
       "Camera Batteries                  6648\n",
       "USB Cables                        6387\n",
       "Screen Protectors                 6286\n",
       "Skins & Decals                    6170\n",
       "AC Adapters                       5884\n",
       "USB Flash Drives                  5404\n",
       "Speaker Systems                   5298\n",
       "Keyboards                         4866\n",
       "Computers & Accessories           4859\n",
       "HDMI Cables                       4664\n",
       "Point & Shoot Digital Cameras     4475\n",
       "Lamps                             4292\n",
       "Accessory Kits                    4176\n",
       "Covers                            4044\n",
       "MP3 Players                       4038\n",
       "Mice                              4004\n",
       "Name: categories, dtype: int64"
      ]
     },
     "execution_count": 11,
     "metadata": {},
     "output_type": "execute_result"
    }
   ],
   "source": [
    "product_cat_subset = product[product.categories.isin(cats)]\n",
    "product_cat_subset.categories.value_counts()"
   ]
  },
  {
   "cell_type": "code",
   "execution_count": 12,
   "metadata": {
    "collapsed": false
   },
   "outputs": [
    {
     "data": {
      "text/plain": [
       "21"
      ]
     },
     "execution_count": 12,
     "metadata": {},
     "output_type": "execute_result"
    }
   ],
   "source": [
    "# number of categories\n",
    "len(cats)"
   ]
  },
  {
   "cell_type": "code",
   "execution_count": 13,
   "metadata": {
    "collapsed": false
   },
   "outputs": [
    {
     "data": {
      "text/plain": [
       "125431"
      ]
     },
     "execution_count": 13,
     "metadata": {},
     "output_type": "execute_result"
    }
   ],
   "source": [
    "total"
   ]
  },
  {
   "cell_type": "code",
   "execution_count": 14,
   "metadata": {
    "collapsed": false
   },
   "outputs": [
    {
     "data": {
      "text/plain": [
       "25.177038755831042"
      ]
     },
     "execution_count": 14,
     "metadata": {},
     "output_type": "execute_result"
    }
   ],
   "source": [
    "# percent of data we are using\n",
    "sum(percent)"
   ]
  },
  {
   "cell_type": "markdown",
   "metadata": {},
   "source": [
    "## Downloading"
   ]
  },
  {
   "cell_type": "code",
   "execution_count": 15,
   "metadata": {
    "collapsed": true
   },
   "outputs": [],
   "source": [
    "# change the project path to root of the repository. make sure that datasets folder is added to .gitignore\n",
    "#project_path = '/media/sarthak/HDD/TUM/courses/sem_3/DLCV/project'\n",
    "project_path = 'D:\\\\TUM\\\\courses\\\\sem_3\\\\DLCV\\\\project'\n",
    "datasets_path = os.path.join(project_path, 'datasets')"
   ]
  },
  {
   "cell_type": "code",
   "execution_count": 16,
   "metadata": {
    "collapsed": true
   },
   "outputs": [],
   "source": [
    "if not os.path.exists(datasets_path):\n",
    "    os.makedirs(datasets_path)"
   ]
  },
  {
   "cell_type": "code",
   "execution_count": 21,
   "metadata": {
    "collapsed": false
   },
   "outputs": [
    {
     "name": "stdout",
     "output_type": "stream",
     "text": [
      "number of urls to be downloaded for category: AC Adapters is: 3262\n",
      "images downloaded: 0\n",
      "100% [..............................................................................] 26300 / 26300images downloaded: 1000\n",
      "100% [..............................................................................] 10459 / 10459images downloaded: 2000\n",
      "100% [..............................................................................] 14678 / 14678images downloaded: 3000\n",
      "100% [..............................................................................] 11016 / 11016number of urls to be downloaded for category: USB Flash Drives is: 4809\n",
      "images downloaded: 0\n",
      "100% [................................................................................] 7164 / 7164images downloaded: 1000\n",
      "100% [..............................................................................] 30500 / 30500images downloaded: 2000\n",
      "100% [..............................................................................] 10211 / 10211images downloaded: 3000\n",
      "100% [................................................................................] 3104 / 3104images downloaded: 4000\n",
      "100% [..............................................................................] 10284 / 10284number of urls to be downloaded for category: Keyboards is: 4117\n",
      "images downloaded: 0\n",
      "100% [..............................................................................] 11198 / 11198images downloaded: 1000\n",
      "100% [..............................................................................] 13155 / 13155images downloaded: 2000\n",
      "100% [..............................................................................] 12470 / 12470images downloaded: 3000\n",
      "100% [..............................................................................] 11884 / 11884images downloaded: 4000\n",
      "100% [..............................................................................] 11778 / 11778number of urls to be downloaded for category: Computers & Accessories is: 4572\n",
      "images downloaded: 0\n",
      "100% [................................................................................] 6483 / 6483images downloaded: 1000\n",
      "100% [..............................................................................] 16269 / 16269images downloaded: 2000\n",
      "100% [................................................................................] 6899 / 6899images downloaded: 3000\n",
      "100% [..............................................................................] 17382 / 17382images downloaded: 4000\n",
      "100% [..............................................................................] 15128 / 15128number of urls to be downloaded for category: HDMI Cables is: 3386\n",
      "images downloaded: 0\n",
      "100% [..............................................................................] 19647 / 19647images downloaded: 1000\n",
      "100% [..............................................................................] 11739 / 11739images downloaded: 2000\n",
      "100% [................................................................................] 6421 / 6421images downloaded: 3000\n",
      "100% [................................................................................] 8726 / 8726number of urls to be downloaded for category: Point & Shoot Digital Cameras is: 4353\n",
      "images downloaded: 0\n",
      "100% [..............................................................................] 13978 / 13978images downloaded: 1000\n",
      "100% [..............................................................................] 15516 / 15516images downloaded: 2000\n",
      "100% [..............................................................................] 14749 / 14749images downloaded: 3000\n",
      "100% [..............................................................................] 14850 / 14850images downloaded: 4000\n",
      "100% [..............................................................................] 16596 / 16596number of urls to be downloaded for category: Lamps is: 3292\n",
      "images downloaded: 0\n",
      "100% [..............................................................................] 15186 / 15186images downloaded: 1000\n",
      "100% [..............................................................................] 19838 / 19838images downloaded: 2000\n",
      "100% [................................................................................] 7979 / 7979images downloaded: 3000\n",
      "100% [................................................................................] 6677 / 6677number of urls to be downloaded for category: Accessory Kits is: 3677\n",
      "images downloaded: 0\n",
      "100% [..............................................................................] 11575 / 11575images downloaded: 1000\n",
      "100% [..............................................................................] 22063 / 22063images downloaded: 2000\n",
      "100% [..............................................................................] 22260 / 22260images downloaded: 3000\n",
      "100% [..............................................................................] 27047 / 27047number of urls to be downloaded for category: Covers is: 3799\n",
      "images downloaded: 0\n",
      "100% [..............................................................................] 27348 / 27348images downloaded: 1000\n",
      "100% [..............................................................................] 18722 / 18722images downloaded: 2000\n",
      "100% [..............................................................................] 16551 / 16551images downloaded: 3000\n",
      "100% [..............................................................................] 14350 / 14350number of urls to be downloaded for category: MP3 Players is: 3616\n",
      "images downloaded: 0\n",
      "100% [..............................................................................] 11952 / 11952images downloaded: 1000\n",
      "100% [..............................................................................] 16074 / 16074images downloaded: 2000\n",
      "100% [................................................................................] 6690 / 6690images downloaded: 3000\n",
      "100% [..............................................................................] 12353 / 12353number of urls to be downloaded for category: Mice is: 3847\n",
      "images downloaded: 0\n",
      "100% [................................................................................] 5281 / 5281images downloaded: 1000\n",
      "100% [................................................................................] 7334 / 7334images downloaded: 2000\n",
      "100% [..............................................................................] 21223 / 21223images downloaded: 3000\n",
      "100% [..............................................................................] 13727 / 13727"
     ]
    }
   ],
   "source": [
    "import wget\n",
    "import random\n",
    "import time\n",
    "for cat in cats:\n",
    "    \n",
    "    # switch off the download_cutoff_activate if you want to download all images in the category.\n",
    "    download_cutoff_activate = True\n",
    "    \n",
    "    # change the download cutoff if required, minimum it should be 7k\n",
    "    download_cutoff = 5000\n",
    "    product_cat_subset_subset = product_cat_subset[product_cat_subset.categories == cat]\n",
    "    cat_path = os.path.join(datasets_path, cat)\n",
    "    if not os.path.exists(cat_path):\n",
    "        os.makedirs(cat_path)\n",
    "        os.chdir(cat_path)\n",
    "        imurls = product_cat_subset_subset.imUrl.tolist()\n",
    "        imurls = list(set(imurls))\n",
    "        if download_cutoff_activate and len(imurls) > download_cutoff:\n",
    "            # randomly sample 10k urls from categories that contain more than 10k images to reduce download time\n",
    "            imurls = random.sample(imurls, download_cutoff)\n",
    "\n",
    "            # sanity check that sampling worked correctly\n",
    "            assert len(imurls) == download_cutoff\n",
    "\n",
    "        print('number of urls to be downloaded for category: ' + cat + ' is: ' + str(len(imurls)))\n",
    "        for idx, url in enumerate(imurls):\n",
    "            try:\n",
    "                # logging\n",
    "                if idx % 1000 == 0:\n",
    "                    print('images downloaded: ' + str(idx))\n",
    "\n",
    "                # download the image using wget in cat_path\n",
    "                file = wget.download(url)\n",
    "            except Exception as e:\n",
    "                pass"
   ]
  }
 ],
 "metadata": {
  "kernelspec": {
   "display_name": "Python 3",
   "language": "python",
   "name": "python3"
  },
  "language_info": {
   "codemirror_mode": {
    "name": "ipython",
    "version": 3
   },
   "file_extension": ".py",
   "mimetype": "text/x-python",
   "name": "python",
   "nbconvert_exporter": "python",
   "pygments_lexer": "ipython3",
   "version": "3.6.0"
  }
 },
 "nbformat": 4,
 "nbformat_minor": 2
}

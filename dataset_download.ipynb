{
 "cells": [
  {
   "cell_type": "markdown",
   "metadata": {},
   "source": [
    "## imports"
   ]
  },
  {
   "cell_type": "code",
   "execution_count": 96,
   "metadata": {
    "collapsed": true
   },
   "outputs": [],
   "source": [
    "%matplotlib inline\n",
    "import matplotlib.pyplot as plt\n",
    "import numpy as np\n",
    "from collections import defaultdict\n",
    "import itertools\n",
    "import pandas as pd\n",
    "import _pickle as cPickle\n",
    "from pandas import DataFrame\n",
    "from pandas import Series\n",
    "import os"
   ]
  },
  {
   "cell_type": "markdown",
   "metadata": {},
   "source": [
    "## function definitions"
   ]
  },
  {
   "cell_type": "code",
   "execution_count": 84,
   "metadata": {
    "collapsed": true
   },
   "outputs": [],
   "source": [
    "class Loader(object):\n",
    "    \"\"\"\n",
    "    interface for data loader wrappers\n",
    "    \"\"\"\n",
    "    def load_data(self, file_name):\n",
    "        \"\"\"\n",
    "        loads the data into memory\n",
    "        :param file_name: name of the file to load\n",
    "        :return: pandas object\n",
    "        \"\"\"\n",
    "        raise NotImplementedError"
   ]
  },
  {
   "cell_type": "code",
   "execution_count": 85,
   "metadata": {
    "collapsed": true
   },
   "outputs": [],
   "source": [
    "import gzip\n",
    "class JSONLoader(Loader):\n",
    "    def __init__(self, read_mode='rb'):\n",
    "        self.read_mode = read_mode\n",
    "\n",
    "    def load_data(self, file_name):\n",
    "        \"\"\"\n",
    "        :param file_name: complete path to open\n",
    "        :return: pandas dataframe\n",
    "        \"\"\"\n",
    "        try:\n",
    "            i = 0\n",
    "            df = {}\n",
    "            for d in self._parse(file_name):\n",
    "                df[i] = d\n",
    "                i += 1\n",
    "            return pd.DataFrame.from_dict(df, orient='index')\n",
    "        except Exception as e:\n",
    "            raise e\n",
    "\n",
    "    def _parse(self, file_name):\n",
    "        g = gzip.open(file_name, self.read_mode)\n",
    "        for l in g:\n",
    "            yield eval(l)"
   ]
  },
  {
   "cell_type": "code",
   "execution_count": 86,
   "metadata": {
    "collapsed": true
   },
   "outputs": [],
   "source": [
    "def flatten(l):\n",
    "    return [item for sublist in l for item in sublist]"
   ]
  },
  {
   "cell_type": "code",
   "execution_count": 87,
   "metadata": {
    "collapsed": true
   },
   "outputs": [],
   "source": [
    "def get_cat(l):\n",
    "    return l[-2]"
   ]
  },
  {
   "cell_type": "markdown",
   "metadata": {},
   "source": [
    "## data loading"
   ]
  },
  {
   "cell_type": "code",
   "execution_count": 88,
   "metadata": {
    "collapsed": true
   },
   "outputs": [],
   "source": [
    "# file_path corresponds to the file of the .gz file which contains the JSON file. \n",
    "product_path = '/media/sarthak/HDD/TUM/courses/sem_3/practical DM/datasets/meta_Electronics.json.gz'\n",
    "#product_path = 'D:\\\\TUM\\\\courses\\\\sem_3\\\\practical DM\\\\datasets\\\\meta_Electronics.json.gz'\n",
    "loader = JSONLoader()\n",
    "product = loader.load_data(product_path)"
   ]
  },
  {
   "cell_type": "code",
   "execution_count": 89,
   "metadata": {},
   "outputs": [
    {
     "data": {
      "text/html": [
       "<div>\n",
       "<style>\n",
       "    .dataframe thead tr:only-child th {\n",
       "        text-align: right;\n",
       "    }\n",
       "\n",
       "    .dataframe thead th {\n",
       "        text-align: left;\n",
       "    }\n",
       "\n",
       "    .dataframe tbody tr th {\n",
       "        vertical-align: top;\n",
       "    }\n",
       "</style>\n",
       "<table border=\"1\" class=\"dataframe\">\n",
       "  <thead>\n",
       "    <tr style=\"text-align: right;\">\n",
       "      <th></th>\n",
       "      <th>asin</th>\n",
       "      <th>imUrl</th>\n",
       "      <th>description</th>\n",
       "      <th>categories</th>\n",
       "      <th>title</th>\n",
       "      <th>price</th>\n",
       "      <th>salesRank</th>\n",
       "      <th>related</th>\n",
       "      <th>brand</th>\n",
       "    </tr>\n",
       "  </thead>\n",
       "  <tbody>\n",
       "    <tr>\n",
       "      <th>0</th>\n",
       "      <td>0132793040</td>\n",
       "      <td>http://ecx.images-amazon.com/images/I/31JIPhp%...</td>\n",
       "      <td>The Kelby Training DVD Mastering Blend Modes i...</td>\n",
       "      <td>[[Electronics, Computers &amp; Accessories, Cables...</td>\n",
       "      <td>Kelby Training DVD: Mastering Blend Modes in A...</td>\n",
       "      <td>NaN</td>\n",
       "      <td>NaN</td>\n",
       "      <td>NaN</td>\n",
       "      <td>NaN</td>\n",
       "    </tr>\n",
       "    <tr>\n",
       "      <th>1</th>\n",
       "      <td>0321732944</td>\n",
       "      <td>http://ecx.images-amazon.com/images/I/31uogm6Y...</td>\n",
       "      <td>NaN</td>\n",
       "      <td>[[Electronics, Computers &amp; Accessories, Cables...</td>\n",
       "      <td>Kelby Training DVD: Adobe Photoshop CS5 Crash ...</td>\n",
       "      <td>NaN</td>\n",
       "      <td>NaN</td>\n",
       "      <td>NaN</td>\n",
       "      <td>NaN</td>\n",
       "    </tr>\n",
       "    <tr>\n",
       "      <th>2</th>\n",
       "      <td>0439886341</td>\n",
       "      <td>http://ecx.images-amazon.com/images/I/51k0qa8f...</td>\n",
       "      <td>Digital Organizer and Messenger</td>\n",
       "      <td>[[Electronics, Computers &amp; Accessories, PDAs, ...</td>\n",
       "      <td>Digital Organizer and Messenger</td>\n",
       "      <td>8.15</td>\n",
       "      <td>{'Electronics': 144944}</td>\n",
       "      <td>{'also_viewed': ['0545016266', 'B009ECM8QY', '...</td>\n",
       "      <td>NaN</td>\n",
       "    </tr>\n",
       "    <tr>\n",
       "      <th>3</th>\n",
       "      <td>0511189877</td>\n",
       "      <td>http://ecx.images-amazon.com/images/I/41HaAhbv...</td>\n",
       "      <td>The CLIKR-5 UR5U-8780L remote control is desig...</td>\n",
       "      <td>[[Electronics, Accessories &amp; Supplies, Audio &amp;...</td>\n",
       "      <td>CLIKR-5 Time Warner Cable Remote Control UR5U-...</td>\n",
       "      <td>23.36</td>\n",
       "      <td>NaN</td>\n",
       "      <td>{'also_viewed': ['B001KC08A4', 'B00KUL8O0W', '...</td>\n",
       "      <td>NaN</td>\n",
       "    </tr>\n",
       "    <tr>\n",
       "      <th>4</th>\n",
       "      <td>0528881469</td>\n",
       "      <td>http://ecx.images-amazon.com/images/I/51FnRkJq...</td>\n",
       "      <td>Like its award-winning predecessor, the Intell...</td>\n",
       "      <td>[[Electronics, GPS &amp; Navigation, Vehicle GPS, ...</td>\n",
       "      <td>Rand McNally 528881469 7-inch Intelliroute TND...</td>\n",
       "      <td>299.99</td>\n",
       "      <td>NaN</td>\n",
       "      <td>{'also_viewed': ['B006ZOI9OY', 'B00C7FKT2A', '...</td>\n",
       "      <td>NaN</td>\n",
       "    </tr>\n",
       "  </tbody>\n",
       "</table>\n",
       "</div>"
      ],
      "text/plain": [
       "         asin                                              imUrl  \\\n",
       "0  0132793040  http://ecx.images-amazon.com/images/I/31JIPhp%...   \n",
       "1  0321732944  http://ecx.images-amazon.com/images/I/31uogm6Y...   \n",
       "2  0439886341  http://ecx.images-amazon.com/images/I/51k0qa8f...   \n",
       "3  0511189877  http://ecx.images-amazon.com/images/I/41HaAhbv...   \n",
       "4  0528881469  http://ecx.images-amazon.com/images/I/51FnRkJq...   \n",
       "\n",
       "                                         description  \\\n",
       "0  The Kelby Training DVD Mastering Blend Modes i...   \n",
       "1                                                NaN   \n",
       "2                    Digital Organizer and Messenger   \n",
       "3  The CLIKR-5 UR5U-8780L remote control is desig...   \n",
       "4  Like its award-winning predecessor, the Intell...   \n",
       "\n",
       "                                          categories  \\\n",
       "0  [[Electronics, Computers & Accessories, Cables...   \n",
       "1  [[Electronics, Computers & Accessories, Cables...   \n",
       "2  [[Electronics, Computers & Accessories, PDAs, ...   \n",
       "3  [[Electronics, Accessories & Supplies, Audio &...   \n",
       "4  [[Electronics, GPS & Navigation, Vehicle GPS, ...   \n",
       "\n",
       "                                               title   price  \\\n",
       "0  Kelby Training DVD: Mastering Blend Modes in A...     NaN   \n",
       "1  Kelby Training DVD: Adobe Photoshop CS5 Crash ...     NaN   \n",
       "2                    Digital Organizer and Messenger    8.15   \n",
       "3  CLIKR-5 Time Warner Cable Remote Control UR5U-...   23.36   \n",
       "4  Rand McNally 528881469 7-inch Intelliroute TND...  299.99   \n",
       "\n",
       "                 salesRank                                            related  \\\n",
       "0                      NaN                                                NaN   \n",
       "1                      NaN                                                NaN   \n",
       "2  {'Electronics': 144944}  {'also_viewed': ['0545016266', 'B009ECM8QY', '...   \n",
       "3                      NaN  {'also_viewed': ['B001KC08A4', 'B00KUL8O0W', '...   \n",
       "4                      NaN  {'also_viewed': ['B006ZOI9OY', 'B00C7FKT2A', '...   \n",
       "\n",
       "  brand  \n",
       "0   NaN  \n",
       "1   NaN  \n",
       "2   NaN  \n",
       "3   NaN  \n",
       "4   NaN  "
      ]
     },
     "execution_count": 89,
     "metadata": {},
     "output_type": "execute_result"
    }
   ],
   "source": [
    "product.head()"
   ]
  },
  {
   "cell_type": "code",
   "execution_count": 90,
   "metadata": {},
   "outputs": [],
   "source": [
    "product.categories = product.categories.apply(flatten)\n",
    "product.categories = product.categories.apply(get_cat)\n",
    "\n",
    "# code that did the magic of running in sub-seconds complexity.\n",
    "#sin_cat_dict = Series(product.categories.values,index=product.asin).to_dict()"
   ]
  },
  {
   "cell_type": "code",
   "execution_count": 91,
   "metadata": {
    "scrolled": true
   },
   "outputs": [
    {
     "data": {
      "text/plain": [
       "Laptop & Netbook Computer Accessories    43296\n",
       "Computers & Accessories                  28347\n",
       "Cases & Sleeves                          27839\n",
       "Bags & Cases                             23998\n",
       "Cables & Accessories                     23147\n",
       "Audio & Video Accessories                21925\n",
       "MP3 Player Accessories                   21040\n",
       "Computer Components                      19591\n",
       "Cables & Interconnects                   13345\n",
       "Data Storage                             12923\n",
       "Touch Screen Tablet Accessories          12878\n",
       "Electronics                              11002\n",
       "Batteries                                 8707\n",
       "Digital Cameras                           8157\n",
       "Batteries, Chargers & Accessories         7613\n",
       "eBook Readers & Accessories               6880\n",
       "Speakers                                  6804\n",
       "Video Cables                              6744\n",
       "Digital Camera Accessories                6661\n",
       "Accessories                               5620\n",
       "Memory Cards                              5185\n",
       "MP3 Players & Accessories                 5153\n",
       "Battery Chargers                          4995\n",
       "Television & Video                        4877\n",
       "Lens Accessories                          4831\n",
       "GPS System Accessories                    4778\n",
       "Audio Cables                              4714\n",
       "Networking Products                       4532\n",
       "Video Projector Accessories               4303\n",
       "Filters & Accessories                     4010\n",
       "                                         ...  \n",
       "Cycling                                      1\n",
       "Nintendo 64                                  1\n",
       "Hunting                                      1\n",
       "Language Instruction                         1\n",
       "Diving & Snorkeling                          1\n",
       "LIVE                                         1\n",
       "Mailers                                      1\n",
       "Personal Finance                             1\n",
       "V                                            1\n",
       "Web Design                                   1\n",
       "Live Sound & Stage                           1\n",
       "Jewelry Accessories                          1\n",
       "Shoes                                        1\n",
       "Business & Marketing Plans                   1\n",
       "Costumes & Accessories                       1\n",
       "Clothing                                     1\n",
       "Girls                                        1\n",
       "PlayStation Vita                             1\n",
       "Children's                                   1\n",
       "Snack Foods                                  1\n",
       "Medical Supplies & Equipment                 1\n",
       "Sports & Outdoor Play                        1\n",
       "Sega Saturn                                  1\n",
       "Hats & Caps                                  1\n",
       "Bed Pillows                                  1\n",
       "Flea, Lice & Tick Control                    1\n",
       "Tools & Home Improvement                     1\n",
       "Janitorial & Sanitation Supplies             1\n",
       "Card Files, Holders & Racks                  1\n",
       "Stationery & Party Supplies                  1\n",
       "Name: categories, Length: 286, dtype: int64"
      ]
     },
     "execution_count": 91,
     "metadata": {},
     "output_type": "execute_result"
    }
   ],
   "source": [
    "product.categories.value_counts()"
   ]
  },
  {
   "cell_type": "markdown",
   "metadata": {},
   "source": [
    "## creating dataset"
   ]
  },
  {
   "cell_type": "code",
   "execution_count": 92,
   "metadata": {
    "collapsed": true
   },
   "outputs": [],
   "source": [
    "# change the threshold to experiment\n",
    "threshold = 7000\n",
    "percent = []\n",
    "cats = []\n",
    "counter = 0\n",
    "counts = product.categories.value_counts()\n",
    "for key, val in counts.iteritems():\n",
    "    if val >= threshold:\n",
    "        counter+=1\n",
    "        percent.append( (val/product.shape[0]) * 100)\n",
    "        cats.append(key)"
   ]
  },
  {
   "cell_type": "code",
   "execution_count": 103,
   "metadata": {},
   "outputs": [
    {
     "data": {
      "text/plain": [
       "Laptop & Netbook Computer Accessories    43296\n",
       "Computers & Accessories                  28347\n",
       "Cases & Sleeves                          27839\n",
       "Bags & Cases                             23998\n",
       "Cables & Accessories                     23147\n",
       "Audio & Video Accessories                21925\n",
       "MP3 Player Accessories                   21040\n",
       "Computer Components                      19591\n",
       "Cables & Interconnects                   13345\n",
       "Data Storage                             12923\n",
       "Touch Screen Tablet Accessories          12878\n",
       "Electronics                              11002\n",
       "Batteries                                 8707\n",
       "Digital Cameras                           8157\n",
       "Batteries, Chargers & Accessories         7613\n",
       "Name: categories, dtype: int64"
      ]
     },
     "execution_count": 103,
     "metadata": {},
     "output_type": "execute_result"
    }
   ],
   "source": [
    "product_cat_subset = product[product.categories.isin(cats)]\n",
    "product_cat_subset.categories.value_counts()"
   ]
  },
  {
   "cell_type": "code",
   "execution_count": 94,
   "metadata": {},
   "outputs": [
    {
     "data": {
      "text/plain": [
       "15"
      ]
     },
     "execution_count": 94,
     "metadata": {},
     "output_type": "execute_result"
    }
   ],
   "source": [
    "# number of categories\n",
    "len(cats)"
   ]
  },
  {
   "cell_type": "code",
   "execution_count": 95,
   "metadata": {},
   "outputs": [
    {
     "data": {
      "text/plain": [
       "56.96713743185412"
      ]
     },
     "execution_count": 95,
     "metadata": {},
     "output_type": "execute_result"
    }
   ],
   "source": [
    "# percent of data we are using\n",
    "sum(percent)"
   ]
  },
  {
   "cell_type": "markdown",
   "metadata": {},
   "source": [
    "## Downloading"
   ]
  },
  {
   "cell_type": "code",
   "execution_count": 97,
   "metadata": {
    "collapsed": true
   },
   "outputs": [],
   "source": [
    "# change the project path to root of the repository. make sure that datasets folder is added to .gitignore\n",
    "project_path = '/media/sarthak/HDD/TUM/courses/sem_3/DLCV/project'\n",
    "datasets_path = os.path.join(project_path, 'datasets')"
   ]
  },
  {
   "cell_type": "code",
   "execution_count": 98,
   "metadata": {
    "collapsed": true
   },
   "outputs": [],
   "source": [
    "if not os.path.exists(datasets_path):\n",
    "    os.makedirs(datasets_path)"
   ]
  },
  {
   "cell_type": "code",
   "execution_count": null,
   "metadata": {},
   "outputs": [
    {
     "name": "stdout",
     "output_type": "stream",
     "text": [
      "number of urls to be downloaded for category: Laptop & Netbook Computer Accessories is: 10000\n",
      "images downloaded: 0\n"
     ]
    }
   ],
   "source": [
    "import wget\n",
    "import random\n",
    "import time\n",
    "for cat in cats:\n",
    "    \n",
    "    # switch off the download_cutoff_activate if you want to download all images in the category.\n",
    "    download_cutoff_activate = True\n",
    "    \n",
    "    # change the download cutoff if required, minimum it should be 7k\n",
    "    download_cutoff = 10000\n",
    "    product_cat_subset_subset = product_cat_subset[product_cat_subset.categories == cat]\n",
    "    cat_path = os.path.join(datasets_path, cat)\n",
    "    if not os.path.exists(cat_path):\n",
    "        os.makedirs(cat_path)\n",
    "    os.chdir(cat_path)\n",
    "    imurls = product_cat_subset_subset.imUrl.tolist()\n",
    "    imurls = list(set(imurls))\n",
    "    if download_cutoff_activate and len(imurls) > download_cutoff:\n",
    "        # randomly sample 10k urls from categories that contain more than 10k images to reduce download time\n",
    "        imurls = random.sample(imurls, download_cutoff)\n",
    "        \n",
    "        # sanity check that sampling worked correctly\n",
    "        assert len(imurls) == download_cutoff\n",
    "        \n",
    "    print('number of urls to be downloaded for category: ' + cat + ' is: ' + str(len(imurls)))\n",
    "    for idx, url in enumerate(imurls):\n",
    "        try:\n",
    "            # logging\n",
    "            if idx % 1000 == 0:\n",
    "                print('images downloaded: ' + str(idx))\n",
    "            \n",
    "            # download the image using wget in cat_path\n",
    "            file = wget.download(url)\n",
    "        except Exception as e:\n",
    "            pass"
   ]
  }
 ],
 "metadata": {
  "kernelspec": {
   "display_name": "Python 3",
   "language": "python",
   "name": "python3"
  },
  "language_info": {
   "codemirror_mode": {
    "name": "ipython",
    "version": 3
   },
   "file_extension": ".py",
   "mimetype": "text/x-python",
   "name": "python",
   "nbconvert_exporter": "python",
   "pygments_lexer": "ipython3",
   "version": "3.6.3"
  }
 },
 "nbformat": 4,
 "nbformat_minor": 2
}
